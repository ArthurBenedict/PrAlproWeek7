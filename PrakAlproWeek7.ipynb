{
 "cells": [
  {
   "cell_type": "code",
   "execution_count": null,
   "metadata": {},
   "outputs": [],
   "source": [
    "def anagram(kata1, kata2):\n",
    "    kata1 = kata1.lower()\n",
    "    kata2 = kata2.lower()\n",
    "\n",
    "    mengurutkan1 = sorted(kata1)\n",
    "    mengurutkan2 = sorted(kata2)\n",
    "\n",
    "    return mengurutkan1 == mengurutkan2\n",
    "\n",
    "def main():\n",
    "    kata1 = str(input(\"masukan kata 1 =\"))\n",
    "    kata2 = str(input(\"masukan kata 2 =\"))\n",
    "\n",
    "    if anagram(kata1, kata2):\n",
    "        print(f\"kata1 = {kata1}, kata2 = {kata2} adalah anagram\")\n",
    "    else:\n",
    "        print(f\"kata1 = {kata1}, kata2 = {kata2} bukan anagram\")\n",
    "\n",
    "\n",
    "if __name__ == \"__main__\":\n",
    "    main()"
   ]
  },
  {
   "cell_type": "code",
   "execution_count": null,
   "metadata": {},
   "outputs": [],
   "source": [
    "def mencarikata(kalimat, kata):\n",
    "    kalimat = kalimat.lower()\n",
    "    kata = kata.lower()\n",
    "\n",
    "    kemunculan = 0\n",
    "    kata_dan_kalimat = kalimat.split()\n",
    "    for katkal in kata_dan_kalimat:\n",
    "        if katkal == kata:\n",
    "            kemunculan += 1\n",
    "    return kemunculan\n",
    "\n",
    "def main():\n",
    "    kalimat = str(input(\"masukan kalimat= \"))\n",
    "    kata = str(input(\"masukan kata= \"))\n",
    "\n",
    "    jumlah = mencarikata(kalimat, kata)\n",
    "    if jumlah > 0:\n",
    "        print(f\" kata '{kata}' muncul sebanyak {jumlah} buah\")\n",
    "    elif jumlah <= 0:\n",
    "        print(f\" '{kata}' tidak ada \")\n",
    "\n",
    "\n",
    "if __name__ == \"__main__\":\n",
    "    main()"
   ]
  },
  {
   "cell_type": "code",
   "execution_count": null,
   "metadata": {},
   "outputs": [],
   "source": [
    "def hapus_spasi_berlebih(kalimat):\n",
    "    kalimat_split = kalimat.split()\n",
    "    kalimat_normal = \" \".join(kalimat_split)\n",
    "    return kalimat_normal\n",
    "\n",
    "def main():\n",
    "    kalimat = str(input(\"masukan suatu kalimat\"))\n",
    "    hasil = hapus_spasi_berlebih(kalimat)\n",
    "    \n",
    "    print(f\" '{kalimat}' setelah dihapus spasi berlebih menjadi '{hasil}' \")\n",
    "\n",
    "if __name__ == \"__main__\":\n",
    "    main()"
   ]
  },
  {
   "cell_type": "code",
   "execution_count": null,
   "metadata": {},
   "outputs": [],
   "source": [
    "def panjang_pendek(kalimat):\n",
    "    kata = kalimat.split()\n",
    "\n",
    "    terpendek = kata[0]\n",
    "    terpanjang = kata[0]\n",
    "\n",
    "    for i in kata:\n",
    "        if len(i) < len(terpendek):\n",
    "            terpendek = i\n",
    "        elif len(i) > len(terpanjang):  \n",
    "            terpanjang = i\n",
    "    \n",
    "    return terpendek, terpanjang\n",
    "\n",
    "def main():\n",
    "    kalimat = str(input('masukan suatu kalimat : '))\n",
    "    terpendek, terpanjang = panjang_pendek(kalimat)\n",
    "    print(f\"dari kalimat '{kalimat}', kata terpendek adalah '{terpendek}', kata terpanjang adalah '{terpanjang}' \")\n",
    "\n",
    "if __name__==\"__main__\":\n",
    "    main()"
   ]
  }
 ],
 "metadata": {
  "language_info": {
   "name": "python"
  }
 },
 "nbformat": 4,
 "nbformat_minor": 2
}
